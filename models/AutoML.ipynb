{
 "cells": [
  {
   "cell_type": "code",
   "execution_count": null,
   "id": "3da81884-7492-4ff6-b8df-4bb9829676eb",
   "metadata": {},
   "outputs": [],
   "source": [
    "from lightautoml.automl.presets.tabular_presets import TabularAutoML, TabularUtilizedAutoML\n",
    "from lightautoml.tasks import Task\n",
    "\n",
    "import pandas as pd\n",
    "import numpy as np"
   ]
  },
  {
   "cell_type": "code",
   "execution_count": null,
   "id": "894376fd-9448-4f6d-afb7-d27331e76891",
   "metadata": {},
   "outputs": [],
   "source": [
    "train = pd.read_csv('./data/train.csv')\n",
    "test = pd.read_csv('./data/test.csv')"
   ]
  },
  {
   "cell_type": "code",
   "execution_count": null,
   "id": "82bffcdb-69f4-48e7-8917-1855bbb734ba",
   "metadata": {},
   "outputs": [],
   "source": [
    "task = Task('binary',\n",
    "            loss='logloss',\n",
    "            metric='auc')\n",
    "N_JOBS = 4\n",
    "N_FOLDS = 4\n",
    "RAM_LIMIT = 12\n",
    "N_THREADS = N_JOBS\n",
    "RANDOM_STATE = 42\n",
    "TIMEOUT = 2400 # seconds\n",
    "TARGET_NAME = 'target'\n",
    "\n",
    "np.random.seed(RANDOM_STATE)\n",
    "\n",
    "roles = {\n",
    "    'target': TARGET_NAME,\n",
    "    'drop': ['Статус брони']\n",
    "}"
   ]
  },
  {
   "cell_type": "code",
   "execution_count": null,
   "id": "3b127e38-8721-450e-83e0-7b13989f942e",
   "metadata": {},
   "outputs": [],
   "source": [
    "%%time\n",
    "\n",
    "automl = TabularUtilizedAutoML(task = task, \n",
    "                       timeout = TIMEOUT,\n",
    "                       cpu_limit = N_THREADS,\n",
    "                       general_params = {'use_algos': [['lgb', 'xgb', 'lgb_tuned','linear_l2', 'xgb_tuned', 'cb', 'cb_tuned']]},\n",
    "                       reader_params = {'n_jobs': N_THREADS, 'cv': N_FOLDS},\n",
    "                       tuning_params = {'max_tuning_time': 1200})"
   ]
  },
  {
   "cell_type": "code",
   "execution_count": null,
   "id": "6f4bd30a-01fa-4d63-9522-29996cf5985e",
   "metadata": {},
   "outputs": [],
   "source": [
    "predictions_oof = automl.fit_predict(train, \n",
    "                   roles=roles,\n",
    "                   valid_data=Test,\n",
    "                   verbose=1)"
   ]
  },
  {
   "cell_type": "code",
   "execution_count": null,
   "id": "b6c1d61b-f4f2-4d75-a04a-6d1e7f92be66",
   "metadata": {},
   "outputs": [],
   "source": [
    "# saving oof predictions\n",
    "pd.Series(predictions_oof).to_csv('automl_predsoof_train.csv', index = False, header = False)"
   ]
  },
  {
   "cell_type": "code",
   "execution_count": null,
   "id": "8bb038ad-fce8-4816-9e47-2c63ff1d99de",
   "metadata": {},
   "outputs": [],
   "source": [
    "# saving final predictions\n",
    "predictions = automl.predict(test).data.flatten().round()\n",
    "pd.Series(predictions).to_csv('automl_preds_final.csv', index = False, header = False)\n",
    "pd.Series(predictions.data.flatten()).to_csv('automl_predsoof.csv', index = False, header = False)"
   ]
  }
 ],
 "metadata": {
  "kernelspec": {
   "display_name": "Python 3 (ipykernel)",
   "language": "python",
   "name": "python3"
  },
  "language_info": {
   "codemirror_mode": {
    "name": "ipython",
    "version": 3
   },
   "file_extension": ".py",
   "mimetype": "text/x-python",
   "name": "python",
   "nbconvert_exporter": "python",
   "pygments_lexer": "ipython3",
   "version": "3.9.18"
  }
 },
 "nbformat": 4,
 "nbformat_minor": 5
}
