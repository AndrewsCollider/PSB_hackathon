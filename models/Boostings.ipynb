{
 "cells": [
  {
   "cell_type": "code",
   "execution_count": 1,
   "id": "7157214a-234e-433e-b37a-1ec680d1291d",
   "metadata": {},
   "outputs": [
    {
     "name": "stderr",
     "output_type": "stream",
     "text": [
      "D:\\conda\\envs\\new_env\\lib\\site-packages\\dask\\dataframe\\_pyarrow_compat.py:17: FutureWarning: Minimal version of pyarrow will soon be increased to 14.0.1. You are using 11.0.0. Please consider upgrading.\n",
      "  warnings.warn(\n"
     ]
    }
   ],
   "source": [
    "import numpy as np\n",
    "import pandas as pd\n",
    "import matplotlib.pyplot as plt\n",
    "import seaborn as sns\n",
    "\n",
    "from sklearn.model_selection import cross_val_predict\n",
    "from sklearn.preprocessing import LabelEncoder\n",
    "\n",
    "from catboost import CatBoostClassifier\n",
    "from lightgbm import LGBMClassifier\n",
    "from xgboost import XGBClassifier\n",
    "\n",
    "import optuna\n",
    "import os"
   ]
  },
  {
   "cell_type": "code",
   "execution_count": 2,
   "id": "dd17e9b4-a299-4ac4-84f7-93469b867775",
   "metadata": {},
   "outputs": [],
   "source": [
    "PATH = os.path.dirname(os.getcwd())"
   ]
  },
  {
   "cell_type": "code",
   "execution_count": 6,
   "id": "df6581ed-f489-450a-9e3b-b0a991ffbc80",
   "metadata": {},
   "outputs": [],
   "source": [
    "train = pd.read_csv(os.path.join(PATH, r\"data/train.csv\"))\n",
    "test = pd.read_csv(os.path.join(PATH, r\"data/test.csv\"))"
   ]
  },
  {
   "cell_type": "code",
   "execution_count": 14,
   "id": "2ab30848-0071-47e7-8aa7-1eac64df85c7",
   "metadata": {},
   "outputs": [],
   "source": [
    "class GeneralPipeline:\n",
    "    def __init__(self, catboost_params = {}, lgbm_params = {}, xgb_params = {}):\n",
    "        self.catboost = CatBoostClassifier(**catboost_params, silent=True)\n",
    "        self.xgboost = XGBClassifier(**xgb_params)\n",
    "        self.lgbm = LGBMClassifier(**lgbm_params)\n",
    "        self.metamodel = CatBoostClassifier(silent = True)\n",
    "\n",
    "    @staticmethod\n",
    "    def process_set(self, dataset, is_train): # сделать обработку датасетов сразу вместе\n",
    "        '''\n",
    "        Do label encoding for particular category features\n",
    "        '''\n",
    "        df = dataset.copy()\n",
    "        df.drop([\"Дата бронирования\", \"Заезд\", \"Выезд\"], axis = 1)\n",
    "        \n",
    "        columns_to_encode = df.select_dtypes(\"object\").columns\n",
    "        if is_train:\n",
    "            self.encoders = [] # если в тренировочной выборке не встречаются некоторые категории\n",
    "            for col in columns_to_encode:\n",
    "                encoder = LabelEncoder()\n",
    "                df[col] = encoder.fit_transform(df[col])\n",
    "                self.encoders.append(encoder)\n",
    "        \n",
    "            return df\n",
    "        else:\n",
    "            for i, col in enumerate(columns_to_encode):\n",
    "                encoder = self.encoders[i]\n",
    "                df[col] = encoder.fit_transform(df[col])\n",
    "        \n",
    "            return df\n",
    "\n",
    "    def fit(self, train):\n",
    "        x_train, y_train = train.drop(\"target\", axis = 1), train[\"target\"]\n",
    "        x_train = self.process_set(self, x_train, is_train = True)\n",
    "        \n",
    "        catboost_oof = cross_val_predict(self.catboost, x_train, y_train, method = \"predict_proba\")[:, 1]\n",
    "        xgboost_oof = cross_val_predict(self.xgboost, x_train, y_train, method = \"predict_proba\")[:, 1]\n",
    "        lgbm_oof = cross_val_predict(self.lgbm, x_train, y_train, method = \"predict_proba\")[:, 1]\n",
    "\n",
    "        print(\"OOF Catboost ROC-AUC: {}\".format(round(roc_auc_score(y_train, catboost_oof),4)))\n",
    "        print(\"OOF XGBoost ROC-AUC: {}\".format(round(roc_auc_score(y_train, xgboost_oof), 4)))\n",
    "        print(\"OOF LGBM ROC-AUC: {}\".format(round(roc_auc_score(y_train, lgbm_oof),4)))\n",
    "\n",
    "        X_oof = np.concatenate([catboost_oof[:, None], xgboost_oof[:, None], lgbm_oof[:, None]], axis = 1)\n",
    "        self.metamodel.fit(X_oof, y_train)\n",
    "\n",
    "        self.catboost.fit(x_train, y_train)\n",
    "        self.xgboost.fit(x_train, y_train)\n",
    "        self.lgbm.fit(x_train, y_train)\n",
    "\n",
    "        return self\n",
    "\n",
    "    def predict(self, test):\n",
    "        x_test = self.process_set(self, test, is_train = False)\n",
    "        #print(x_test)\n",
    "        predictions_catboost = self.catboost.predict_proba(x_test)[:, 1]\n",
    "        predictions_xgboost = self.xgboost.predict_proba(x_test)[:,1]\n",
    "        predictions_lgbm = self.lgbm.predict_proba(x_test)[:, 1]\n",
    "\n",
    "        predictions_for_meta = np.concatenate([predictions_catboost[:, None], predictions_xgboost[:, None], \n",
    "                                               predictions_lgbm[:, None]], axis = 1)\n",
    "        \n",
    "        final_predictions = self.metamodel.predict(predictions_for_meta)\n",
    "        return final_predictions"
   ]
  },
  {
   "cell_type": "code",
   "execution_count": 16,
   "id": "34d60092-80b6-4809-80fd-7f91c4b4fa68",
   "metadata": {},
   "outputs": [
    {
     "name": "stdout",
     "output_type": "stream",
     "text": [
      "OOF Catboost ROC-AUC: 0.8411\n",
      "OOF XGBoost ROC-AUC: 0.8239\n",
      "OOF LGBM ROC-AUC: 0.8367\n"
     ]
    }
   ],
   "source": [
    "a = GeneralPipeline()\n",
    "a.fit(train)\n",
    "predictions = a.predict(test)"
   ]
  },
  {
   "cell_type": "code",
   "execution_count": null,
   "id": "efdfc5f2-d8be-476c-ba84-975e6d9215a1",
   "metadata": {},
   "outputs": [],
   "source": []
  }
 ],
 "metadata": {
  "kernelspec": {
   "display_name": "Python 3 (ipykernel)",
   "language": "python",
   "name": "python3"
  },
  "language_info": {
   "codemirror_mode": {
    "name": "ipython",
    "version": 3
   },
   "file_extension": ".py",
   "mimetype": "text/x-python",
   "name": "python",
   "nbconvert_exporter": "python",
   "pygments_lexer": "ipython3",
   "version": "3.9.18"
  }
 },
 "nbformat": 4,
 "nbformat_minor": 5
}
