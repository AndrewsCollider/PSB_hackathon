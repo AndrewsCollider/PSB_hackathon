{
 "cells": [
  {
   "cell_type": "code",
   "execution_count": null,
   "metadata": {},
   "outputs": [],
   "source": [
    "!pip install pytorch-tabnet"
   ]
  },
  {
   "cell_type": "code",
   "execution_count": 5,
   "metadata": {
    "_cell_guid": "b1076dfc-b9ad-4769-8c92-a6c4dae69d19",
    "_uuid": "8f2839f25d086af736a60e9eeb907d3b93b6e0e5"
   },
   "outputs": [],
   "source": [
    "from pytorch_tabnet.tab_model import TabNetClassifier\n",
    "\n",
    "import torch\n",
    "from sklearn.preprocessing import LabelEncoder\n",
    "from sklearn.metrics import roc_auc_score\n",
    "\n",
    "import pandas as pd\n",
    "import numpy as np\n",
    "np.random.seed(0)\n",
    "\n",
    "import scipy\n",
    "\n",
    "import os\n",
    "from pathlib import Path\n",
    "\n",
    "from matplotlib import pyplot as plt\n",
    "%matplotlib inline"
   ]
  },
  {
   "cell_type": "code",
   "execution_count": 6,
   "metadata": {},
   "outputs": [],
   "source": [
    "os.environ['CUDA_VISIBLE_DEVICES'] = f\"1\"\n",
    "PATH = os.path.dirname(os.getcwd())"
   ]
  },
  {
   "cell_type": "code",
   "execution_count": 7,
   "metadata": {},
   "outputs": [],
   "source": [
    "train = pd.read_csv(os.path.join(PATH, r\"data/train.csv\"))\n",
    "test = pd.read_csv(os.path.join(PATH, r\"data/test.csv\"))"
   ]
  },
  {
   "cell_type": "code",
   "execution_count": 8,
   "metadata": {},
   "outputs": [],
   "source": [
    "train['Внесена предоплата'] = train['Внесена предоплата'].astype('float64')\n",
    "test['Внесена предоплата'] = test['Внесена предоплата'].astype('float64')"
   ]
  },
  {
   "cell_type": "code",
   "execution_count": 9,
   "metadata": {},
   "outputs": [],
   "source": [
    "train['Внесена предоплата'] = train['Внесена предоплата'].astype('float64')\n",
    "test['Внесена предоплата'] = test['Внесена предоплата'].astype('float64')\n",
    "\n",
    "weather_code_cols = [col for col in train.columns if 'weather_code' in col]\n",
    "train[weather_code_cols] = train[weather_code_cols].astype('int32')\n",
    "test[weather_code_cols] = test[weather_code_cols].astype('int32')"
   ]
  },
  {
   "cell_type": "code",
   "execution_count": 10,
   "metadata": {},
   "outputs": [],
   "source": [
    "df = pd.concat([train, test], axis=0)"
   ]
  },
  {
   "cell_type": "code",
   "execution_count": 11,
   "metadata": {},
   "outputs": [],
   "source": [
    "# label encoding\n",
    "from sklearn.preprocessing import LabelEncoder\n",
    "\n",
    "cat_cols = df.select_dtypes('object').columns\n",
    "#cat_dims = {}\n",
    "for col in cat_cols:\n",
    "    encoder = LabelEncoder()\n",
    "    encoder.fit(df[col])\n",
    "    train[col] = encoder.transform(train[col])\n",
    "    test[col] = encoder.transform(test[col])\n",
    "    #cat_dims[col] = len(encoder.classes_)\n",
    "    \n",
    "target = 'target'"
   ]
  },
  {
   "cell_type": "code",
   "execution_count": 13,
   "metadata": {},
   "outputs": [
    {
     "name": "stderr",
     "output_type": "stream",
     "text": [
      "D:\\conda\\envs\\new_env\\lib\\site-packages\\pytorch_tabnet\\abstract_model.py:82: UserWarning: Device used : cpu\n",
      "  warnings.warn(f\"Device used : {self.device}\")\n"
     ]
    }
   ],
   "source": [
    "tabnet_params = {\"cat_emb_dim\":10,\n",
    "                 \"optimizer_fn\":torch.optim.Adam,\n",
    "                 \"optimizer_params\":dict(lr=3e-2),\n",
    "                 \"scheduler_params\":{\"step_size\":50,\n",
    "                                 \"gamma\":0.9},\n",
    "                 \"scheduler_fn\":torch.optim.lr_scheduler.StepLR,\n",
    "                 \"mask_type\":'entmax', # \"sparsemax\"\n",
    "                }\n",
    "\n",
    "clf = TabNetClassifier(**tabnet_params\n",
    "                      )"
   ]
  },
  {
   "cell_type": "code",
   "execution_count": 14,
   "metadata": {},
   "outputs": [],
   "source": [
    "from sklearn.model_selection import train_test_split\n",
    "\n",
    "X_train, X_test, y_train, y_test = train_test_split(train[features], train['target'])\n",
    "\n",
    "X_train, X_test = X_train.values, X_test.values\n",
    "y_train, y_test = y_train.values, y_test.values"
   ]
  },
  {
   "cell_type": "code",
   "execution_count": 15,
   "metadata": {},
   "outputs": [],
   "source": [
    "from pytorch_tabnet.augmentations import ClassificationSMOTE # дополнительная аугментация через SMOTE\n",
    "\n",
    "aug = ClassificationSMOTE(p=0.2)\n",
    "max_epochs = 50 if not os.getenv(\"CI\", False) else 2"
   ]
  },
  {
   "cell_type": "code",
   "execution_count": 16,
   "metadata": {},
   "outputs": [
    {
     "name": "stdout",
     "output_type": "stream",
     "text": [
      "epoch 0  | loss: 0.7264  | train_auc: 0.48216 | valid_auc: 0.48076 |  0:00:02s\n",
      "epoch 1  | loss: 0.61261 | train_auc: 0.51246 | valid_auc: 0.49698 |  0:00:04s\n",
      "epoch 2  | loss: 0.54931 | train_auc: 0.54764 | valid_auc: 0.54155 |  0:00:06s\n",
      "epoch 3  | loss: 0.53484 | train_auc: 0.61811 | valid_auc: 0.61811 |  0:00:08s\n",
      "epoch 4  | loss: 0.53343 | train_auc: 0.74501 | valid_auc: 0.73739 |  0:00:10s\n",
      "epoch 5  | loss: 0.52843 | train_auc: 0.70572 | valid_auc: 0.69583 |  0:00:12s\n",
      "epoch 6  | loss: 0.51988 | train_auc: 0.70367 | valid_auc: 0.70139 |  0:00:14s\n",
      "epoch 7  | loss: 0.52232 | train_auc: 0.77165 | valid_auc: 0.74864 |  0:00:16s\n",
      "epoch 8  | loss: 0.51193 | train_auc: 0.76972 | valid_auc: 0.75293 |  0:00:18s\n",
      "epoch 9  | loss: 0.50156 | train_auc: 0.74585 | valid_auc: 0.7251  |  0:00:20s\n",
      "epoch 10 | loss: 0.49802 | train_auc: 0.77767 | valid_auc: 0.75865 |  0:00:22s\n",
      "epoch 11 | loss: 0.49977 | train_auc: 0.75589 | valid_auc: 0.73406 |  0:00:24s\n",
      "epoch 12 | loss: 0.49675 | train_auc: 0.80623 | valid_auc: 0.77338 |  0:00:26s\n",
      "epoch 13 | loss: 0.49687 | train_auc: 0.80943 | valid_auc: 0.78495 |  0:00:28s\n",
      "epoch 14 | loss: 0.48882 | train_auc: 0.8197  | valid_auc: 0.78996 |  0:00:30s\n",
      "epoch 15 | loss: 0.49311 | train_auc: 0.8222  | valid_auc: 0.787   |  0:00:32s\n",
      "epoch 16 | loss: 0.48639 | train_auc: 0.82895 | valid_auc: 0.79046 |  0:00:34s\n",
      "epoch 17 | loss: 0.4869  | train_auc: 0.83383 | valid_auc: 0.79009 |  0:00:36s\n",
      "epoch 18 | loss: 0.48256 | train_auc: 0.83806 | valid_auc: 0.80192 |  0:00:38s\n",
      "epoch 19 | loss: 0.47643 | train_auc: 0.83171 | valid_auc: 0.80189 |  0:00:40s\n",
      "epoch 20 | loss: 0.48295 | train_auc: 0.83829 | valid_auc: 0.79949 |  0:00:42s\n",
      "epoch 21 | loss: 0.47494 | train_auc: 0.84003 | valid_auc: 0.80327 |  0:00:44s\n",
      "epoch 22 | loss: 0.47294 | train_auc: 0.84388 | valid_auc: 0.79796 |  0:00:46s\n",
      "epoch 23 | loss: 0.4773  | train_auc: 0.84223 | valid_auc: 0.79889 |  0:00:48s\n",
      "epoch 24 | loss: 0.46273 | train_auc: 0.84657 | valid_auc: 0.80308 |  0:00:50s\n",
      "epoch 25 | loss: 0.47004 | train_auc: 0.85129 | valid_auc: 0.8077  |  0:00:53s\n",
      "epoch 26 | loss: 0.45617 | train_auc: 0.85177 | valid_auc: 0.80249 |  0:00:55s\n",
      "epoch 27 | loss: 0.46033 | train_auc: 0.84885 | valid_auc: 0.80039 |  0:00:57s\n",
      "epoch 28 | loss: 0.46103 | train_auc: 0.85454 | valid_auc: 0.80428 |  0:00:59s\n",
      "epoch 29 | loss: 0.45516 | train_auc: 0.85149 | valid_auc: 0.79855 |  0:01:01s\n",
      "epoch 30 | loss: 0.45795 | train_auc: 0.85766 | valid_auc: 0.80165 |  0:01:03s\n",
      "epoch 31 | loss: 0.45629 | train_auc: 0.85654 | valid_auc: 0.80194 |  0:01:05s\n",
      "epoch 32 | loss: 0.45758 | train_auc: 0.85689 | valid_auc: 0.8074  |  0:01:07s\n",
      "epoch 33 | loss: 0.44842 | train_auc: 0.85777 | valid_auc: 0.80138 |  0:01:09s\n",
      "epoch 34 | loss: 0.46307 | train_auc: 0.85721 | valid_auc: 0.80277 |  0:01:11s\n",
      "epoch 35 | loss: 0.45689 | train_auc: 0.86137 | valid_auc: 0.80327 |  0:01:13s\n",
      "epoch 36 | loss: 0.45091 | train_auc: 0.8632  | valid_auc: 0.80437 |  0:01:15s\n",
      "epoch 37 | loss: 0.44988 | train_auc: 0.86237 | valid_auc: 0.80173 |  0:01:17s\n",
      "epoch 38 | loss: 0.45516 | train_auc: 0.86382 | valid_auc: 0.80166 |  0:01:19s\n",
      "epoch 39 | loss: 0.45376 | train_auc: 0.86451 | valid_auc: 0.80102 |  0:01:21s\n",
      "epoch 40 | loss: 0.45076 | train_auc: 0.86499 | valid_auc: 0.79692 |  0:01:23s\n",
      "epoch 41 | loss: 0.44507 | train_auc: 0.86758 | valid_auc: 0.80538 |  0:01:25s\n",
      "epoch 42 | loss: 0.44968 | train_auc: 0.86763 | valid_auc: 0.80459 |  0:01:27s\n",
      "epoch 43 | loss: 0.44607 | train_auc: 0.87055 | valid_auc: 0.80069 |  0:01:29s\n",
      "epoch 44 | loss: 0.44718 | train_auc: 0.87097 | valid_auc: 0.80194 |  0:01:31s\n",
      "epoch 45 | loss: 0.4398  | train_auc: 0.87151 | valid_auc: 0.80131 |  0:01:33s\n",
      "\n",
      "Early stopping occurred at epoch 45 with best_epoch = 25 and best_valid_auc = 0.8077\n"
     ]
    },
    {
     "name": "stderr",
     "output_type": "stream",
     "text": [
      "D:\\conda\\envs\\new_env\\lib\\site-packages\\pytorch_tabnet\\callbacks.py:172: UserWarning: Best weights from best epoch are automatically used!\n",
      "  warnings.warn(wrn_msg)\n"
     ]
    }
   ],
   "source": [
    "# Fitting the model without starting from a warm start but with the computing of the feature importance activated\n",
    "\n",
    "clf.fit(\n",
    "    X_train=X_train, y_train=y_train,\n",
    "    eval_set=[(X_train, y_train), (X_test, y_test)],\n",
    "    eval_name=['train', 'valid'],\n",
    "    eval_metric=['auc'],\n",
    "    max_epochs=max_epochs , patience=20,\n",
    "    batch_size=1024, virtual_batch_size=128,\n",
    "    num_workers=0,\n",
    "    weights=1,\n",
    "    drop_last=False,\n",
    "    augmentations=aug, #aug, None\n",
    "    compute_importance=True # True by default so not needed\n",
    ")\n"
   ]
  },
  {
   "cell_type": "code",
   "execution_count": 17,
   "metadata": {},
   "outputs": [
    {
     "data": {
      "image/png": "[encoded data removed]",
      "text/plain": [
       "<Figure size 640x480 with 1 Axes>"
      ]
     },
     "metadata": {},
     "output_type": "display_data"
    }
   ],
   "source": [
    "plt.plot(clf.history['valid_auc'])\n",
    "plt.plot(clf.history['train_auc']);"
   ]
  },
  {
   "cell_type": "code",
   "execution_count": 18,
   "metadata": {},
   "outputs": [],
   "source": [
    "predictions = clf.predict_proba(test[features].values)"
   ]
  },
  {
   "cell_type": "code",
   "execution_count": null,
   "metadata": {},
   "outputs": [],
   "source": [
    "pd.Series(predictions).to_csv('Tabnet_base.csv', index = False)"
   ]
  },
  {
   "cell_type": "markdown",
   "metadata": {},
   "source": [
    "## OOF Predictions"
   ]
  },
  {
   "cell_type": "code",
   "execution_count": null,
   "metadata": {},
   "outputs": [],
   "source": [
    "from sklearn.model_selection import KFold\n",
    "from pytorch_tabnet.augmentations import ClassificationSMOTE\n",
    "aug = ClassificationSMOTE(p=0.2)\n",
    "\n",
    "\n",
    "n_splits = 5\n",
    "kf = KFold(n_splits=n_splits, shuffle=True, random_state=42)\n",
    "\n",
    "oof_preds = np.zeros(train.shape[0])\n",
    "models = []\n",
    "\n",
    "for train_idx, val_idx in kf.split(train[features]):\n",
    "    X_train, y_train = train.loc[train_idx, features].values, train.loc[train_idx, 'target'].values\n",
    "    X_val, y_val = train.loc[val_idx, features].values, train.loc[val_idx, 'target'].values\n",
    "\n",
    "    tabnet_params = {#\"cat_idxs\":cat_idxs,\n",
    "                     #\"cat_dims\":cat_dims,\n",
    "                     \"cat_emb_dim\":2,\n",
    "                     \"optimizer_fn\":torch.optim.Adam,\n",
    "                     \"optimizer_params\":dict(lr=2e-2),\n",
    "                     \"scheduler_params\":{\"step_size\":50, # how to use learning rate scheduler\n",
    "                                     \"gamma\":0.9},\n",
    "                     \"scheduler_fn\":torch.optim.lr_scheduler.StepLR,\n",
    "                     \"mask_type\":'entmax', # \"sparsemax\"\n",
    "                     #\"grouped_features\" : grouped_features\n",
    "                    }\n",
    "\n",
    "    clf = TabNetClassifier(**tabnet_params\n",
    "                          )\n",
    "    clf.fit(\n",
    "    X_train=X_train, y_train=y_train,\n",
    "    eval_set=[(X_train, y_train), (X_val, y_val)],\n",
    "    eval_name=['train', 'valid'],\n",
    "    eval_metric=['auc'],\n",
    "    max_epochs=100 , patience=30,\n",
    "    batch_size=1024, virtual_batch_size=128,\n",
    "    num_workers=0,\n",
    "    weights=1,\n",
    "    drop_last=False,\n",
    "    augmentations=aug, #aug, None\n",
    "    compute_importance=True # True by default so not needed\n",
    "    )\n",
    "    \n",
    "    models.append(clf)\n",
    "    \n",
    "    oof_preds[val_idx] += clf.predict_proba(X_val)[:, 1]"
   ]
  },
  {
   "cell_type": "code",
   "execution_count": null,
   "metadata": {},
   "outputs": [],
   "source": [
    "pd.Series(oof_preds).to_csv('oof_preds_tabnet.csv', index = False)"
   ]
  },
  {
   "cell_type": "code",
   "execution_count": null,
   "metadata": {},
   "outputs": [],
   "source": [
    "predictions = np.zeros((test.shape[0], 2))\n",
    "for model in models:\n",
    "    predictions += model.predict_proba(test[features].values)\n",
    "\n",
    "predictions /= 5\n",
    "final_predictions = np.zeros((test.shape[0]))\n",
    "final_predictions[predictions[:,1] > 0.5] = 1"
   ]
  },
  {
   "cell_type": "code",
   "execution_count": null,
   "metadata": {},
   "outputs": [],
   "source": [
    "pd.Series(final_predictions).to_csv('tabnet_oof.csv', index = False, header = False)"
   ]
  },
  {
   "cell_type": "code",
   "execution_count": null,
   "metadata": {},
   "outputs": [],
   "source": [
    "pd.Series(predictions[:,1]).to_csv('tabnet_final_stacking.csv', index = False, header = False)"
   ]
  }
 ],
 "metadata": {
  "kaggle": {
   "accelerator": "gpu",
   "dataSources": [
    {
     "datasetId": 5741435,
     "sourceId": 9446808,
     "sourceType": "datasetVersion"
    },
    {
     "datasetId": 5742589,
     "sourceId": 9448299,
     "sourceType": "datasetVersion"
    },
    {
     "datasetId": 5746575,
     "sourceId": 9453742,
     "sourceType": "datasetVersion"
    }
   ],
   "dockerImageVersionId": 30762,
   "isGpuEnabled": true,
   "isInternetEnabled": true,
   "language": "python",
   "sourceType": "notebook"
  },
  "kernelspec": {
   "display_name": "Python 3 (ipykernel)",
   "language": "python",
   "name": "python3"
  },
  "language_info": {
   "codemirror_mode": {
    "name": "ipython",
    "version": 3
   },
   "file_extension": ".py",
   "mimetype": "text/x-python",
   "name": "python",
   "nbconvert_exporter": "python",
   "pygments_lexer": "ipython3",
   "version": "3.9.18"
  }
 },
 "nbformat": 4,
 "nbformat_minor": 4
}
